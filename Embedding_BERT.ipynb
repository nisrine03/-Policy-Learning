{
 "cells": [
  {
   "cell_type": "code",
   "execution_count": 1,
   "id": "c7f0253d-a297-4d93-ad63-e0b597b10ba9",
   "metadata": {},
   "outputs": [],
   "source": [
    "import pandas as pd\n",
    "from transformers import BertTokenizer,BertModel\n",
    "import re\n",
    "from unidecode import unidecode\n",
    "from nltk.corpus import stopwords"
   ]
  },
  {
   "cell_type": "code",
   "execution_count": 2,
   "id": "2586a13e-79e1-4389-9eb3-b0610e6e2e67",
   "metadata": {},
   "outputs": [],
   "source": [
    "data=pd.read_csv(\"sampled_data.csv\")"
   ]
  },
  {
   "cell_type": "code",
   "execution_count": 3,
   "id": "0b878bac-6cf3-4821-8e6b-a6ad33b3e6e2",
   "metadata": {},
   "outputs": [
    {
     "data": {
      "text/html": [
       "<div>\n",
       "<style scoped>\n",
       "    .dataframe tbody tr th:only-of-type {\n",
       "        vertical-align: middle;\n",
       "    }\n",
       "\n",
       "    .dataframe tbody tr th {\n",
       "        vertical-align: top;\n",
       "    }\n",
       "\n",
       "    .dataframe thead th {\n",
       "        text-align: right;\n",
       "    }\n",
       "</style>\n",
       "<table border=\"1\" class=\"dataframe\">\n",
       "  <thead>\n",
       "    <tr style=\"text-align: right;\">\n",
       "      <th></th>\n",
       "      <th>Category</th>\n",
       "      <th>Content</th>\n",
       "    </tr>\n",
       "  </thead>\n",
       "  <tbody>\n",
       "    <tr>\n",
       "      <th>0</th>\n",
       "      <td>Middle East</td>\n",
       "      <td>\"\"Sadness, anger in Palestine: Gaza mourns 13 ...</td>\n",
       "    </tr>\n",
       "    <tr>\n",
       "      <th>1</th>\n",
       "      <td>Middle East</td>\n",
       "      <td>Sudan’s doctors battle to keep people alive,\"\"...</td>\n",
       "    </tr>\n",
       "    <tr>\n",
       "      <th>2</th>\n",
       "      <td>Middle East</td>\n",
       "      <td>How has the world reacted to Syria rejoining t...</td>\n",
       "    </tr>\n",
       "    <tr>\n",
       "      <th>3</th>\n",
       "      <td>Middle East</td>\n",
       "      <td>Police question two Tunisian journalists after...</td>\n",
       "    </tr>\n",
       "    <tr>\n",
       "      <th>4</th>\n",
       "      <td>Middle East</td>\n",
       "      <td>United Nations backs Sudan envoy as army seeks...</td>\n",
       "    </tr>\n",
       "    <tr>\n",
       "      <th>...</th>\n",
       "      <td>...</td>\n",
       "      <td>...</td>\n",
       "    </tr>\n",
       "    <tr>\n",
       "      <th>4995</th>\n",
       "      <td>Science &amp; Technology</td>\n",
       "      <td>Facebook employees demand change around Palest...</td>\n",
       "    </tr>\n",
       "    <tr>\n",
       "      <th>4996</th>\n",
       "      <td>Science &amp; Technology</td>\n",
       "      <td>US stocks close on upbeat data ahead of tech e...</td>\n",
       "    </tr>\n",
       "    <tr>\n",
       "      <th>4997</th>\n",
       "      <td>Science &amp; Technology</td>\n",
       "      <td>Could this gene double your risk of dying from...</td>\n",
       "    </tr>\n",
       "    <tr>\n",
       "      <th>4998</th>\n",
       "      <td>Science &amp; Technology</td>\n",
       "      <td>\"\"Zoom, Amazon, ransomware: Tech’s big winners...</td>\n",
       "    </tr>\n",
       "    <tr>\n",
       "      <th>4999</th>\n",
       "      <td>Science &amp; Technology</td>\n",
       "      <td>Alibaba reports first quarterly loss since goi...</td>\n",
       "    </tr>\n",
       "  </tbody>\n",
       "</table>\n",
       "<p>5000 rows × 2 columns</p>\n",
       "</div>"
      ],
      "text/plain": [
       "                  Category                                            Content\n",
       "0              Middle East  \"\"Sadness, anger in Palestine: Gaza mourns 13 ...\n",
       "1              Middle East  Sudan’s doctors battle to keep people alive,\"\"...\n",
       "2              Middle East  How has the world reacted to Syria rejoining t...\n",
       "3              Middle East  Police question two Tunisian journalists after...\n",
       "4              Middle East  United Nations backs Sudan envoy as army seeks...\n",
       "...                    ...                                                ...\n",
       "4995  Science & Technology  Facebook employees demand change around Palest...\n",
       "4996  Science & Technology  US stocks close on upbeat data ahead of tech e...\n",
       "4997  Science & Technology  Could this gene double your risk of dying from...\n",
       "4998  Science & Technology  \"\"Zoom, Amazon, ransomware: Tech’s big winners...\n",
       "4999  Science & Technology  Alibaba reports first quarterly loss since goi...\n",
       "\n",
       "[5000 rows x 2 columns]"
      ]
     },
     "execution_count": 3,
     "metadata": {},
     "output_type": "execute_result"
    }
   ],
   "source": [
    "data"
   ]
  },
  {
   "cell_type": "code",
   "execution_count": 3,
   "id": "98078305-86af-422d-8643-593626eba4a1",
   "metadata": {},
   "outputs": [
    {
     "name": "stdout",
     "output_type": "stream",
     "text": [
      "Category\n",
      "Africa                  500\n",
      "Asia                    500\n",
      "Climate Crisis          500\n",
      "Coronavirus             500\n",
      "Economy                 500\n",
      "Europe                  500\n",
      "Middle East             500\n",
      "Opinion                 500\n",
      "Science & Technology    500\n",
      "Sports                  500\n",
      "dtype: int64\n"
     ]
    }
   ],
   "source": [
    "# Compter le nombre d'enregistrements par catégorie\n",
    "category_counts = data.groupby('Category').size()\n",
    "\n",
    "# Afficher le résultat\n",
    "print(category_counts)"
   ]
  },
  {
   "cell_type": "code",
   "execution_count": 6,
   "id": "8504dffd-2b61-4c15-a511-b7bc7014b4fb",
   "metadata": {},
   "outputs": [],
   "source": [
    "# Charger la liste des stopwords\n",
    "stop_words = set(stopwords.words('english'))  # Utiliser une autre langue si nécessaire"
   ]
  },
  {
   "cell_type": "code",
   "execution_count": 7,
   "id": "f16b0383-e7eb-40f2-85c6-832fda6437f1",
   "metadata": {},
   "outputs": [],
   "source": [
    "# Nettoyer les données textuelles\n",
    "def clean_text(text):\n",
    "    # Convertir en minuscules\n",
    "    text = text.lower()\n",
    "    \n",
    "    # Supprimer les accents\n",
    "    text = unidecode(text)\n",
    "    \n",
    "    # Retirer les guillemets\n",
    "    text = text.replace('\"', '').replace(\"'\", \"\")\n",
    "    \n",
    "    # Supprimer les balises HTML\n",
    "    text = re.sub(r\"<.*?>\", \" \", text)\n",
    "    \n",
    "    # Supprimer les URL\n",
    "    text = re.sub(r\"http\\S+|www\\S+|https\\S+\", \" \", text)\n",
    "    \n",
    "    # Supprimer les caractères spéciaux (conserver les mots et espaces)\n",
    "    text = re.sub(r\"[^a-zA-Z0-9\\s]\", \" \", text)\n",
    "    \n",
    "    # Supprimer les chiffres\n",
    "    text = re.sub(r\"\\d+\", \" \", text)\n",
    "    \n",
    "    # Supprimer les mots courts (moins de 2 caractères, sauf \"a\" ou \"i\")\n",
    "    text = re.sub(r\"\\b\\w{1,1}\\b\", \" \", text)\n",
    "    \n",
    "    # Retirer les espaces multiples\n",
    "    text = re.sub(r\"\\s+\", \" \", text).strip()\n",
    "    \n",
    "    # Supprimer les stopwords\n",
    "    text = \" \".join(word for word in text.split() if word not in stop_words)\n",
    "    \n",
    "    return text"
   ]
  },
  {
   "cell_type": "code",
   "execution_count": 8,
   "id": "22d43426-fd15-4585-84ba-e5f0a06e4608",
   "metadata": {},
   "outputs": [],
   "source": [
    "data['Content'] = data['Content'].apply(clean_text)"
   ]
  },
  {
   "cell_type": "code",
   "execution_count": 9,
   "id": "ffcf3f47-72e1-4bb9-84b0-8e9d621da8f7",
   "metadata": {},
   "outputs": [],
   "source": [
    "# Charger le tokenizer de BERT\n",
    "tokenizer = BertTokenizer.from_pretrained('bert-base-uncased')"
   ]
  },
  {
   "cell_type": "code",
   "execution_count": 10,
   "id": "49a89adf-ed4d-4a91-b148-1820967e4703",
   "metadata": {},
   "outputs": [],
   "source": [
    "# Tokeniser les textes\n",
    "def tokenize_function(texts, max_length=128):\n",
    "    return tokenizer(\n",
    "        texts.tolist(),  # Les textes sous forme de liste\n",
    "        padding=True,  # Ajouter des pads pour avoir une longueur fixe\n",
    "        truncation=True,  # Tronquer les textes dépassant `max_length`\n",
    "        max_length=max_length,  # Longueur maximale autorisée\n",
    "        return_tensors=\"pt\"  # Retourner des tensors PyTorch\n",
    "    )"
   ]
  },
  {
   "cell_type": "code",
   "execution_count": 11,
   "id": "85dd603d-e390-48f6-8a17-60742d02f098",
   "metadata": {},
   "outputs": [
    {
     "name": "stdout",
     "output_type": "stream",
     "text": [
      "Tokens générés : dict_keys(['input_ids', 'token_type_ids', 'attention_mask'])\n"
     ]
    }
   ],
   "source": [
    "# Tokenisation des textes dans la colonne 'Content'\n",
    "tokens = tokenize_function(data['Content'])\n",
    "\n",
    "# Vérifier les tokens générés\n",
    "print(\"Tokens générés :\", tokens.keys())"
   ]
  },
  {
   "cell_type": "code",
   "execution_count": 12,
   "id": "36e92599-b18a-4fe5-8c5e-b7f94f11a0cc",
   "metadata": {},
   "outputs": [
    {
     "name": "stdout",
     "output_type": "stream",
     "text": [
      "Les données sont prêtes pour BERT et sauvegardées dans 'bert_tokens_sans2.pt'.\n"
     ]
    }
   ],
   "source": [
    "# Sauvegarder les tokens pour une utilisation ultérieure\n",
    "import torch\n",
    "torch.save(tokens, 'bert_tokens_sans2.pt')\n",
    "\n",
    "print(\"Les données sont prêtes pour BERT et sauvegardées dans 'bert_tokens_sans2.pt'.\")"
   ]
  },
  {
   "cell_type": "code",
   "execution_count": 13,
   "id": "c3e0c987-1a05-4495-b153-8f059938bbc2",
   "metadata": {},
   "outputs": [],
   "source": [
    "# Charger le modèle pré-entraîné BERT\n",
    "model = BertModel.from_pretrained('bert-base-uncased')"
   ]
  },
  {
   "cell_type": "code",
   "execution_count": 14,
   "id": "7e0d3207-eb57-47ac-a3f7-ddcb6d9ffa9b",
   "metadata": {},
   "outputs": [],
   "source": [
    "# Calcul des embeddings avec BERT\n",
    "with torch.no_grad():\n",
    "    outputs = model(**tokens)  # Passer les tokens dans BERT\n",
    "    embeddings = outputs.last_hidden_state  # Les embeddings de chaque token"
   ]
  },
  {
   "cell_type": "code",
   "execution_count": 16,
   "id": "3c98289e-d714-4747-9303-0291c970b7f5",
   "metadata": {},
   "outputs": [
    {
     "name": "stdout",
     "output_type": "stream",
     "text": [
      "tensor([[[-1.5784e-01,  4.2919e-02,  1.8769e-01,  ..., -3.4746e-01,\n",
      "           2.5236e-01,  1.5060e-02],\n",
      "         [-1.7151e-01,  6.2319e-01,  4.4668e-01,  ..., -2.5251e-01,\n",
      "          -6.4288e-03, -4.1159e-01],\n",
      "         [ 7.7168e-03,  4.7289e-01,  3.4458e-01,  ..., -3.1900e-01,\n",
      "          -2.0013e-01, -6.6254e-01],\n",
      "         ...,\n",
      "         [ 4.0123e-01,  1.4561e-01,  2.3749e-01,  ..., -3.8078e-01,\n",
      "           1.3876e-01,  2.2495e-02],\n",
      "         [-9.6551e-01, -3.6961e-01, -6.4580e-02,  ..., -1.7299e-01,\n",
      "           1.1782e-01,  5.1195e-02],\n",
      "         [ 6.7091e-01,  2.6258e-01, -6.7924e-02,  ..., -1.6575e-01,\n",
      "          -1.7991e-01,  2.0322e-02]],\n",
      "\n",
      "        [[-5.5316e-01, -1.6308e-02,  1.3948e-01,  ..., -5.0167e-01,\n",
      "           5.5180e-01, -6.0400e-02],\n",
      "         [ 4.3219e-02,  7.2143e-01, -1.6046e-01,  ..., -3.9942e-01,\n",
      "          -3.9348e-02,  3.5283e-02],\n",
      "         [-9.8077e-02, -1.1632e-01,  2.2951e-01,  ..., -1.5507e-01,\n",
      "           1.9858e-02, -2.3513e-01],\n",
      "         ...,\n",
      "         [-5.7736e-01,  3.1009e-01, -1.4142e-01,  ..., -1.4023e-01,\n",
      "           3.2883e-02, -4.8205e-02],\n",
      "         [-4.7846e-02, -3.5799e-03,  5.6004e-02,  ..., -4.8745e-01,\n",
      "          -8.6853e-03,  3.1877e-01],\n",
      "         [ 1.9432e-01,  3.0452e-01,  1.0370e-02,  ..., -3.5817e-01,\n",
      "          -1.4869e-01, -3.2711e-02]],\n",
      "\n",
      "        [[-2.2304e-01, -3.9476e-02,  2.4850e-01,  ..., -4.1582e-01,\n",
      "           5.1251e-01,  2.7146e-01],\n",
      "         [ 1.8360e-01,  8.2353e-02,  4.3926e-01,  ..., -2.1495e-01,\n",
      "           9.3659e-01, -3.6268e-01],\n",
      "         [-7.6839e-01, -1.1368e-01, -2.8581e-01,  ..., -8.3833e-01,\n",
      "           2.8855e-01, -8.2370e-02],\n",
      "         ...,\n",
      "         [-2.0566e-01, -4.1807e-01,  5.6301e-02,  ..., -9.5511e-02,\n",
      "           1.9554e-01, -1.2751e-01],\n",
      "         [ 1.4369e-02, -4.1152e-01, -2.1032e-01,  ..., -1.7909e-01,\n",
      "           2.6601e-01, -5.0008e-01],\n",
      "         [ 1.7314e-01,  1.6515e-01, -4.4713e-02,  ..., -1.8675e-01,\n",
      "          -2.2897e-01,  1.7178e-01]],\n",
      "\n",
      "        ...,\n",
      "\n",
      "        [[-6.0031e-02,  1.2623e-01,  1.3411e-02,  ..., -5.3081e-01,\n",
      "           1.5671e-01,  2.3619e-01],\n",
      "         [ 1.6453e-01,  6.5905e-02,  4.0246e-01,  ..., -4.1921e-01,\n",
      "           1.6257e-01, -1.8128e-01],\n",
      "         [-7.3787e-02, -8.9220e-01, -7.9494e-02,  ..., -8.9200e-01,\n",
      "          -8.2098e-02,  7.5048e-01],\n",
      "         ...,\n",
      "         [ 3.7585e-01, -3.2102e-01, -2.3375e-01,  ...,  5.5910e-02,\n",
      "          -8.6963e-02,  9.1536e-02],\n",
      "         [ 9.4753e-02, -4.3809e-01, -7.4147e-01,  ...,  1.0204e-02,\n",
      "           3.6596e-01, -3.7281e-03],\n",
      "         [ 5.4859e-01, -7.7661e-02, -2.3813e-01,  ..., -1.3237e-01,\n",
      "          -4.7420e-01,  1.8884e-01]],\n",
      "\n",
      "        [[ 1.2100e-03,  2.6428e-02,  3.4341e-01,  ..., -3.6914e-01,\n",
      "           1.2008e-01,  9.9194e-02],\n",
      "         [ 4.1177e-02,  1.8729e-01,  7.9233e-01,  ...,  1.3374e-01,\n",
      "           2.6479e-01, -2.3949e-01],\n",
      "         [ 2.5004e-01,  1.7803e-01,  2.0230e-01,  ...,  1.0948e-01,\n",
      "           2.6380e-01, -3.2564e-01],\n",
      "         ...,\n",
      "         [ 1.0366e+00,  4.8718e-02,  1.2541e+00,  ..., -2.9810e-01,\n",
      "          -2.9016e-01,  3.8029e-01],\n",
      "         [-2.0046e-01,  3.3150e-01,  7.5342e-01,  ..., -5.0330e-01,\n",
      "          -4.9715e-01,  2.4205e-01],\n",
      "         [ 5.9278e-01,  3.8712e-01,  4.2965e-02,  ..., -7.8911e-02,\n",
      "          -1.1665e-01,  2.8224e-02]],\n",
      "\n",
      "        [[-3.9331e-01, -2.6185e-02,  1.0414e-01,  ..., -1.2306e-01,\n",
      "           2.0876e-01,  9.6678e-02],\n",
      "         [-2.0388e-01, -4.8092e-01,  4.9899e-01,  ...,  4.4459e-01,\n",
      "           6.0323e-01, -3.2919e-01],\n",
      "         [-7.4759e-01, -1.0144e-01, -4.8190e-01,  ..., -2.1124e-01,\n",
      "           3.7909e-01,  8.9226e-01],\n",
      "         ...,\n",
      "         [-8.0723e-01,  1.1414e-02,  7.1899e-01,  ..., -3.6719e-01,\n",
      "          -8.8820e-02,  6.2756e-01],\n",
      "         [-3.7508e-01, -2.5030e-01,  1.9852e-01,  ..., -3.9359e-01,\n",
      "           1.0086e-01,  3.1906e-01],\n",
      "         [ 5.0903e-01,  1.7815e-01, -1.2089e-01,  ...,  1.3835e-01,\n",
      "          -9.2960e-02,  2.3197e-02]]])\n"
     ]
    }
   ],
   "source": [
    "print(embeddings)"
   ]
  },
  {
   "cell_type": "code",
   "execution_count": 17,
   "id": "7457e771-e33d-4946-8f4a-35bd4adcdc0f",
   "metadata": {},
   "outputs": [],
   "source": [
    "import numpy as np\n",
    "# Convertir les embeddings en NumPy\n",
    "embeddings_numpy = embeddings.numpy()\n",
    "\n",
    "# Enregistrer dans un fichier .npy\n",
    "np.save(\"embeddings.npy\", embeddings_numpy)\n",
    "\n",
    "# Charger les embeddings plus tard\n",
    "loaded_embeddings = np.load(\"embeddings.npy\")"
   ]
  },
  {
   "cell_type": "code",
   "execution_count": 18,
   "id": "4e90054a-8b46-4f20-b4b1-82c86da80b43",
   "metadata": {},
   "outputs": [],
   "source": []
  },
  {
   "cell_type": "code",
   "execution_count": null,
   "id": "be588a69-e2ef-483b-a983-6a140476c044",
   "metadata": {},
   "outputs": [],
   "source": []
  }
 ],
 "metadata": {
  "kernelspec": {
   "display_name": "Python 3 (ipykernel)",
   "language": "python",
   "name": "python3"
  },
  "language_info": {
   "codemirror_mode": {
    "name": "ipython",
    "version": 3
   },
   "file_extension": ".py",
   "mimetype": "text/x-python",
   "name": "python",
   "nbconvert_exporter": "python",
   "pygments_lexer": "ipython3",
   "version": "3.12.7"
  }
 },
 "nbformat": 4,
 "nbformat_minor": 5
}
