{
 "cells": [
  {
   "cell_type": "code",
   "execution_count": 1,
   "id": "542895a6-5e33-40d5-a676-97eba6797f40",
   "metadata": {},
   "outputs": [],
   "source": [
    "import pandas as pd\n",
    "import nlpaug.augmenter.word as naw\n",
    "from collections import Counter"
   ]
  },
  {
   "cell_type": "code",
   "execution_count": 2,
   "id": "a3925bb8-a2ba-4b48-bec4-8174c645d82f",
   "metadata": {},
   "outputs": [],
   "source": [
    "df = pd.read_excel('DATA_POLICY.xlsx')"
   ]
  },
  {
   "cell_type": "code",
   "execution_count": 4,
   "id": "cb00f04f-61fb-441e-acdd-7e0d3cac1375",
   "metadata": {},
   "outputs": [],
   "source": [
    "min_samples = 500 #Nombre minimum d'enregistrements souhaité pour chaque classe\n",
    "\n",
    "# Augmentateur NLPAug basé sur BERT pour le paraphrasage\n",
    "augmenter = naw.ContextualWordEmbsAug(\n",
    "    model_path='bert-base-uncased', action='substitute', top_k=10\n",
    ")"
   ]
  },
  {
   "cell_type": "code",
   "execution_count": 5,
   "id": "b539272d-cb84-438a-812d-4dc824f4935b",
   "metadata": {},
   "outputs": [],
   "source": [
    "# Fonction pour générer des données augmentées\n",
    "def augment_class(df, category, augmenter, target_size):\n",
    "    class_data = df[df['Category'] == category]\n",
    "    augmented_texts = []\n",
    "    \n",
    "    while len(class_data) + len(augmented_texts) < target_size:\n",
    "        for _, row in class_data.iterrows():\n",
    "            if len(class_data) + len(augmented_texts) >= target_size:\n",
    "                break\n",
    "            augmented_text = augmenter.augment(row['Content'])\n",
    "            augmented_texts.append({'Category': category, 'Content': augmented_text})\n",
    "    \n",
    "    return pd.DataFrame(augmented_texts)"
   ]
  },
  {
   "cell_type": "code",
   "execution_count": 6,
   "id": "57d05803-a736-42c5-bf39-6e73aa5eccde",
   "metadata": {},
   "outputs": [
    {
     "name": "stdout",
     "output_type": "stream",
     "text": [
      "Répartition des classes avant augmentation : Counter({'Coronavirus': 5008, 'Economy': 4992, 'Europe': 4501, 'Africa': 3305, 'Sports': 2342, 'Science & Technology': 523, 'Climate Crisis': 502, 'Middle East': 501, 'Asia': 271, 'Opinion': 14})\n"
     ]
    }
   ],
   "source": [
    "# Compter le nombre d'échantillons par classe\n",
    "class_counts = Counter(df['Category'])\n",
    "print(\"Répartition des classes avant augmentation :\", class_counts)"
   ]
  },
  {
   "cell_type": "code",
   "execution_count": null,
   "id": "443b657d-dd61-4dc0-82a3-c68b76db5cdb",
   "metadata": {},
   "outputs": [
    {
     "name": "stdout",
     "output_type": "stream",
     "text": [
      "Augmenting class: Middle East\n"
     ]
    }
   ],
   "source": [
    "# Appliquer l'augmentation pour les classes sous-représentées\n",
    "augmented_data = []\n",
    "for category, count in class_counts.items():\n",
    "    if count < min_samples:\n",
    "        print(f\"Augmenting class: {category}\")\n",
    "        augmented_data.append(augment_class(df, category, augmenter, min_samples))"
   ]
  },
  {
   "cell_type": "code",
   "execution_count": 11,
   "id": "b6ea1e03-5b60-43b1-aae0-1c724cd05b98",
   "metadata": {
    "scrolled": true
   },
   "outputs": [
    {
     "data": {
      "text/plain": [
       "[    Category                                            Content\n",
       " 0    Opinion  [\" \" the far east : goodbye america, hello chi...\n",
       " 1    Opinion  [russia faces a new neighbourhood threat : chi...\n",
       " 2    Opinion  [\" \" kazakhstan is a bridge between the north,...\n",
       " 3    Opinion  [\" \" in somalia, the rains have come but the c...\n",
       " 4    Opinion  [\" \" sanctions on russian may not be working, ...\n",
       " ..       ...                                                ...\n",
       " 481  Opinion  [america and the lula and right on global affa...\n",
       " 482  Opinion  [‘ king ’ modi ’ s sceptre and the wrestlers w...\n",
       " 483  Opinion  [change is coming to capitol hill and israel w...\n",
       " 484  Opinion  [why ‘ white ’ supremacists but not always whi...\n",
       " 485  Opinion  [and post - pandemic homage to catalonia, \" \" ...\n",
       " \n",
       " [486 rows x 2 columns],\n",
       "     Category                                            Content\n",
       " 0       Asia  [new trials show increased survival rates for ...\n",
       " 1       Asia  [dozens of bodies remain unclaimed days after ...\n",
       " 2       Asia  [\" \" kazakhstan is a bridge between the north,...\n",
       " 3       Asia  [australian soldier ben roberts - smith ‘ comp...\n",
       " 4       Asia  [pakistan pm hopeful of imf deal this month am...\n",
       " ..       ...                                                ...\n",
       " 224     Asia  [uzbeks back president mirziyoyev ’ s reforms ...\n",
       " 225     Asia  [india ’ s ludhiana city hit by deadly gas lea...\n",
       " 226     Asia  [uzbekistan votes on referendum to extend pres...\n",
       " 227     Asia  [taliban must ‘ swiftly reverse ’ crackdown on...\n",
       " 228     Asia  [india accuses china of violating border agree...\n",
       " \n",
       " [229 rows x 2 columns]]"
      ]
     },
     "execution_count": 11,
     "metadata": {},
     "output_type": "execute_result"
    }
   ],
   "source": [
    "augmented_data"
   ]
  },
  {
   "cell_type": "code",
   "execution_count": 12,
   "id": "47d7e46c-70fc-4fea-8dab-5f3bacb33795",
   "metadata": {},
   "outputs": [],
   "source": [
    "# Combiner les données originales et augmentées\n",
    "augmented_df = pd.concat([df] + augmented_data, ignore_index=True)"
   ]
  },
  {
   "cell_type": "code",
   "execution_count": 13,
   "id": "8f0bfef5-d0d0-4839-8f83-1a8dde356ff6",
   "metadata": {},
   "outputs": [
    {
     "name": "stdout",
     "output_type": "stream",
     "text": [
      "Répartition des classes après augmentation : Counter({'Coronavirus': 5008, 'Economy': 4992, 'Europe': 4501, 'Africa': 3305, 'Sports': 2342, 'Science & Technology': 523, 'Climate Crisis': 502, 'Middle East': 501, 'Opinion': 500, 'Asia': 500})\n"
     ]
    }
   ],
   "source": [
    "# Vérifier la nouvelle répartition des classes\n",
    "new_class_counts = Counter(augmented_df['Category'])\n",
    "print(\"Répartition des classes après augmentation :\", new_class_counts)"
   ]
  },
  {
   "cell_type": "code",
   "execution_count": 14,
   "id": "89f2cce4-4d84-4527-accc-f50ef87b42bf",
   "metadata": {},
   "outputs": [
    {
     "name": "stdout",
     "output_type": "stream",
     "text": [
      "Dataset augmenté sauvegardé sous : augmented_dataset.csv\n"
     ]
    }
   ],
   "source": [
    "# Sauvegarder le dataset augmenté\n",
    "augmented_data_path = \"augmented_dataset.csv\"\n",
    "augmented_df.to_csv(augmented_data_path, index=False)\n",
    "print(f\"Dataset augmenté sauvegardé sous : {augmented_data_path}\")"
   ]
  }
 ],
 "metadata": {
  "kernelspec": {
   "display_name": "Python 3 (ipykernel)",
   "language": "python",
   "name": "python3"
  },
  "language_info": {
   "codemirror_mode": {
    "name": "ipython",
    "version": 3
   },
   "file_extension": ".py",
   "mimetype": "text/x-python",
   "name": "python",
   "nbconvert_exporter": "python",
   "pygments_lexer": "ipython3",
   "version": "3.12.7"
  }
 },
 "nbformat": 4,
 "nbformat_minor": 5
}
